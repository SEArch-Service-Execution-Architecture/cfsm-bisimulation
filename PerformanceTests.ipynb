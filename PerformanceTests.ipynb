{
 "cells": [
  {
   "cell_type": "code",
   "execution_count": 19,
   "id": "26fa9cf8-fe1b-4a49-a802-5f187359ee5d",
   "metadata": {},
   "outputs": [],
   "source": [
    "from performance_tests.resources.cfsm import cfsm as initial_cfsm, initial_index\n",
    "from performance_tests.cfsm_incrementer_analyzer import CFSMIncrementerAnalyzer"
   ]
  },
  {
   "cell_type": "code",
   "execution_count": 22,
   "id": "142a202f-4525-47c6-a055-d2de64a421e2",
   "metadata": {},
   "outputs": [],
   "source": [
    "analyzer = CFSMIncrementerAnalyzer(initial_cfsm, initial_index, 'performance_tests/results', size=2, max_points=17, randomize_times=10)"
   ]
  },
  {
   "cell_type": "markdown",
   "id": "f75c5903-6718-4ab4-905b-69faec324173",
   "metadata": {
    "tags": []
   },
   "source": [
    "---\n",
    "## Simple increment strategy"
   ]
  },
  {
   "cell_type": "code",
   "execution_count": null,
   "id": "afa0612c-ec07-4f40-9e20-504c3ec3235d",
   "metadata": {},
   "outputs": [],
   "source": [
    "analyzer.calculate_bisimulation_with_simple_increment_strategy()"
   ]
  },
  {
   "cell_type": "markdown",
   "id": "4272281c-8a0e-4b38-99d3-19e3a1e8b41c",
   "metadata": {},
   "source": [
    "---\n",
    "## Increment Splitting transitions"
   ]
  },
  {
   "cell_type": "code",
   "execution_count": null,
   "id": "8c013d36-cad6-4079-bf76-fd2e61772630",
   "metadata": {},
   "outputs": [],
   "source": [
    "analyzer.calculate_bisimulation_with_increment_splitting_transitions_strategy()"
   ]
  },
  {
   "cell_type": "markdown",
   "id": "1f979151-e85c-42f2-9e93-8c554d11ceac",
   "metadata": {},
   "source": [
    "---\n",
    "## Increment Splitting transitions in new states strategy"
   ]
  },
  {
   "cell_type": "code",
   "execution_count": null,
   "id": "d26faa35-657a-4d7c-aad0-206d44a4530b",
   "metadata": {},
   "outputs": [],
   "source": [
    "analyzer.calculate_bisimulation_with_increment_splitting_transitions_in_new_states_strategy()"
   ]
  }
 ],
 "metadata": {
  "kernelspec": {
   "display_name": "Python 3",
   "language": "python",
   "name": "python3"
  },
  "language_info": {
   "codemirror_mode": {
    "name": "ipython",
    "version": 3
   },
   "file_extension": ".py",
   "mimetype": "text/x-python",
   "name": "python",
   "nbconvert_exporter": "python",
   "pygments_lexer": "ipython3",
   "version": "3.6.5"
  }
 },
 "nbformat": 4,
 "nbformat_minor": 5
}
