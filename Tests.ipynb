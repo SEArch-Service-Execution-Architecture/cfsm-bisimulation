{
 "cells": [
  {
   "cell_type": "code",
   "execution_count": 10,
   "id": "cfcecf0e-4b4b-46f0-bf9c-8dddaf452e27",
   "metadata": {},
   "outputs": [],
   "source": [
    "import os\n",
    "import time\n",
    "import numpy as np\n",
    "import pandas as pd\n",
    "import seaborn as sns\n",
    "import matplotlib.pyplot as plt\n",
    "\n",
    "from performance_tests.cfsm_incrementer import CFSMIncrementer\n",
    "from performance_tests.resources.cfsm import cfsm as initial_cfsm, initial_index\n",
    "\n",
    "\n",
    "incrementer = CFSMIncrementer()\n",
    "index = initial_index\n",
    "points_number = 12\n",
    "randomize_times = 10\n",
    "path = f'results/{points_number}_points_{randomize_times}_times'\n",
    "if not os.path.exists(path):\n",
    "    os.makedirs(path)"
   ]
  },
  {
   "cell_type": "code",
   "execution_count": 11,
   "id": "4916dbd7-57b8-48e6-bf1f-01648e89f775",
   "metadata": {},
   "outputs": [],
   "source": [
    "import csv\n",
    "\n",
    "def write_in_csv(filename, data):\n",
    "    with open(filename, mode='a', newline='') as file:\n",
    "        writer = csv.writer(file)\n",
    "        writer.writerow(data)\n",
    "        \n",
    "def create_csv_result(testname):\n",
    "    write_in_csv(f'{path}/{testname}.csv', ['size', 'avg_time'])\n",
    "\n",
    "def write_line_result(testname, data):\n",
    "    write_in_csv(f'{path}/{testname}.csv', data)\n",
    "    \n",
    "create_csv_result('simple_increment')\n",
    "create_csv_result('increment_splitting_transitions')\n",
    "create_csv_result('increment_splitting_transitions_in_new_states')"
   ]
  },
  {
   "cell_type": "code",
   "execution_count": 12,
   "id": "c45b935d-4440-4325-b2f3-4557d63f9528",
   "metadata": {},
   "outputs": [],
   "source": [
    "def size_of_cfsm(cfsm):\n",
    "    states = len(cfsm.states)\n",
    "    transitions = sum(len(transitions) for transitions in cfsm.transitions_by_source_id.values())\n",
    "    return states * transitions"
   ]
  },
  {
   "cell_type": "code",
   "execution_count": 13,
   "id": "14838703-b3d6-4f4f-bde8-d8ae0233b983",
   "metadata": {},
   "outputs": [],
   "source": [
    "def calculate_bisimulation_time_for(cfsm, randomize_times):\n",
    "    times = []\n",
    "    for i in range(randomize_times):\n",
    "        print(f'  {i+1} randomize')\n",
    "        randomized_cfsm = incrementer.randomize(cfsm)\n",
    "\n",
    "        start_time = time.time()\n",
    "        result = cfsm.calculate_bisimulation_with(randomized_cfsm)\n",
    "        end_time = time.time()\n",
    "        print(f'{end_time - start_time} seconds')\n",
    "\n",
    "        times.append(end_time - start_time)\n",
    "\n",
    "    return np.mean(times)"
   ]
  },
  {
   "cell_type": "code",
   "execution_count": 14,
   "id": "3ddebb86-a89f-4e43-827f-d058f823d577",
   "metadata": {},
   "outputs": [],
   "source": [
    "def get_bisimulation_metrics_using(cfsm, points_number, randomize_times, increment_strategy, testname):\n",
    "    metrics = []\n",
    "    for i in range(points_number):\n",
    "        if i != 0:\n",
    "            cfsm = increment_strategy(cfsm)\n",
    "\n",
    "        size = size_of_cfsm(cfsm)\n",
    "        print(f'Calculating: {i+1} metric, size: {size}')\n",
    "        avg_time = calculate_bisimulation_time_for(cfsm, randomize_times)\n",
    "        metric = {'size': size, 'avg_time': avg_time}\n",
    "        print(metric)\n",
    "        print('')\n",
    "        metrics.append(metric)\n",
    "        write_line_result(testname, [size, avg_time])\n",
    "\n",
    "    return metrics"
   ]
  },
  {
   "cell_type": "markdown",
   "id": "ccdfe4cb-dd38-4c6f-84a2-1ccb4dc9186c",
   "metadata": {},
   "source": [
    "---\n",
    "## Simple increment strategy"
   ]
  },
  {
   "cell_type": "code",
   "execution_count": 9,
   "id": "07541df9-a696-4ba7-a148-4ba4661404b4",
   "metadata": {},
   "outputs": [],
   "source": [
    "def simple_increment_strategy(cfsm):\n",
    "    global simple_increment_index\n",
    "    global simple_increment_size\n",
    "    new_cfsm, new_index = incrementer.increment(cfsm, simple_increment_size, simple_increment_index)\n",
    "    cfsm_array.append(new_cfsm)\n",
    "    simple_increment_index = new_index\n",
    "    return new_cfsm"
   ]
  },
  {
   "cell_type": "code",
   "execution_count": null,
   "id": "3d3cc61c-8948-4d9d-ab8a-70c7d2cc47b8",
   "metadata": {},
   "outputs": [],
   "source": [
    "cfsm_array = []\n",
    "simple_increment_index = initial_index\n",
    "simple_increment_size = 2\n",
    "testname = 'simple_increment'\n",
    "\n",
    "simple_metrics = get_bisimulation_metrics_using(\n",
    "    initial_cfsm,\n",
    "    points_number=points_number,\n",
    "    randomize_times=randomize_times,\n",
    "    increment_strategy=simple_increment_strategy,\n",
    "    testname=testname\n",
    ")"
   ]
  },
  {
   "cell_type": "markdown",
   "id": "c79f3051-f28a-48e9-b89e-256f952ae2f4",
   "metadata": {},
   "source": [
    "testname---\n",
    "## Increment Splitting transitions"
   ]
  },
  {
   "cell_type": "code",
   "execution_count": 15,
   "id": "e430e751-708a-4649-bca9-12399b3f89bb",
   "metadata": {},
   "outputs": [],
   "source": [
    "def increment_splitting_transitions_strategy(cfsm):\n",
    "    global splitting_transitions_index\n",
    "    global splitting_transitions_size\n",
    "    cfsm, new_index = incrementer.increment_splitting_transitions(cfsm, splitting_transitions_size, splitting_transitions_index)\n",
    "    splitting_transitions_index = new_index\n",
    "    return cfsm"
   ]
  },
  {
   "cell_type": "code",
   "execution_count": null,
   "id": "33a2d904-705a-4c25-b6af-6de8a5700a78",
   "metadata": {},
   "outputs": [],
   "source": [
    "splitting_transitions_index = initial_index\n",
    "splitting_transitions_size = 4\n",
    "testname = 'increment_splitting_transitions'\n",
    "\n",
    "splitting_transitions_metrics = get_bisimulation_metrics_using(\n",
    "    initial_cfsm,\n",
    "    points_number=points_number,\n",
    "    randomize_times=randomize_times,\n",
    "    increment_strategy=increment_splitting_transitions_strategy,\n",
    "    testname=testname\n",
    ")"
   ]
  },
  {
   "cell_type": "markdown",
   "id": "3665f679-8967-4f57-987a-0161f9697e4c",
   "metadata": {},
   "source": [
    "---\n",
    "## Increment Splitting transitions in new states strategy"
   ]
  },
  {
   "cell_type": "code",
   "execution_count": null,
   "id": "ec999530-cc0b-4f5f-8db0-921f4321b88b",
   "metadata": {},
   "outputs": [],
   "source": [
    "def increment_splitting_transitions_in_new_states_strategy(cfsm):\n",
    "    global splitting_transitions_in_new_states_index\n",
    "    global splitting_transitions_in_new_states_size\n",
    "    cfsm, new_index = incrementer.increment_splitting_transitions(cfsm, splitting_transitions_in_new_states_size, splitting_transitions_in_new_states_index)\n",
    "    splitting_transitions_in_new_states_index = new_index\n",
    "    return cfsm"
   ]
  },
  {
   "cell_type": "code",
   "execution_count": null,
   "id": "0707372c-0608-44c1-8631-ec2fbe2b6515",
   "metadata": {},
   "outputs": [],
   "source": [
    "splitting_transitions_in_new_states_index = initial_index\n",
    "splitting_transitions_in_new_states_size = 2\n",
    "testname = 'increment_splitting_transitions_in_new_states'\n",
    "\n",
    "splitting_transitions_metrics = get_bisimulation_metrics_using(\n",
    "    initial_cfsm,\n",
    "    points_number=points_number,\n",
    "    randomize_times=randomize_times,\n",
    "    increment_strategy=increment_splitting_transitions_in_new_states_strategy,\n",
    "    testname=testname\n",
    ")"
   ]
  },
  {
   "cell_type": "code",
   "execution_count": null,
   "id": "e148c194-b889-460e-a94f-7c4688e35619",
   "metadata": {},
   "outputs": [],
   "source": []
  }
 ],
 "metadata": {
  "kernelspec": {
   "display_name": "Python 3",
   "language": "python",
   "name": "python3"
  },
  "language_info": {
   "codemirror_mode": {
    "name": "ipython",
    "version": 3
   },
   "file_extension": ".py",
   "mimetype": "text/x-python",
   "name": "python",
   "nbconvert_exporter": "python",
   "pygments_lexer": "ipython3",
   "version": "3.6.5"
  }
 },
 "nbformat": 4,
 "nbformat_minor": 5
}
