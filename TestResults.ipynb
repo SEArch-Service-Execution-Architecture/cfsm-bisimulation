{
 "cells": [
  {
   "cell_type": "code",
   "execution_count": 1,
   "id": "72cae621-c68a-4eba-aa54-06701d319968",
   "metadata": {},
   "outputs": [
    {
     "name": "stderr",
     "output_type": "stream",
     "text": [
      "/home/diego/.pyenv/versions/3.6.5/envs/bisimulation/lib/python3.6/site-packages/pandas/compat/__init__.py:120: UserWarning: Could not import the lzma module. Your installed Python is incomplete. Attempting to use lzma compression will result in a RuntimeError.\n",
      "  warnings.warn(msg)\n"
     ]
    }
   ],
   "source": [
    "import pandas as pd\n",
    "import seaborn as sns\n",
    "import matplotlib.pyplot as plt\n",
    "\n",
    "performan_tests_results='results'"
   ]
  },
  {
   "cell_type": "code",
   "execution_count": 2,
   "id": "f48ba950-c0e7-49cc-ab39-5acf8b45d6b8",
   "metadata": {},
   "outputs": [],
   "source": [
    "simple_increment_df = pd.read_csv(f'{performan_tests_results}/simple_increment.csv')\n",
    "increment_splitting_transitions_df = pd.read_csv(f'{performan_tests_results}/increment_splitting_transitions.csv')\n",
    "increment_splitting_transitions_in_new_states_df = pd.read_csv(f'{performan_tests_results}/increment_splitting_transitions_in_new_states.csv')"
   ]
  },
  {
   "cell_type": "code",
   "execution_count": null,
   "id": "de5738db-6ca9-42a1-952c-727c29bb4a63",
   "metadata": {},
   "outputs": [],
   "source": [
    "fig, ax = plt.subplots(figsize=(12, 8))\n",
    "sns.lineplot(data=simple_increment_df, x='size', y='avg_time', label='Simple increment', ax=ax)\n",
    "sns.lineplot(data=increment_splitting_transitions_df, x='size', y='avg_time', label='Increment splitting transitions', ax=ax)\n",
    "sns.lineplot(data=increment_splitting_transitions_in_new_states_df, x='size', y='avg_time', label='Increment splitting transitions to different states', ax=ax)\n",
    "\n",
    "ax.legend(fontsize=12)\n",
    "\n",
    "ax.set_xlabel('Size', fontsize=16)\n",
    "ax.set_ylabel('Average time (seconds)', fontsize=16)\n",
    "ax.set_title('Average bisimulation computation time by automaton size', fontsize=20)\n",
    "\n",
    "fig.savefig(f'{performan_tests_results}/bisimulation_performance_result.png')\n",
    "\n",
    "plt.show()"
   ]
  },
  {
   "cell_type": "code",
   "execution_count": null,
   "id": "9f6b4fa1-9f58-4603-8b4a-e42a309d4bb4",
   "metadata": {},
   "outputs": [],
   "source": []
  }
 ],
 "metadata": {
  "kernelspec": {
   "display_name": "Python 3",
   "language": "python",
   "name": "python3"
  },
  "language_info": {
   "codemirror_mode": {
    "name": "ipython",
    "version": 3
   },
   "file_extension": ".py",
   "mimetype": "text/x-python",
   "name": "python",
   "nbconvert_exporter": "python",
   "pygments_lexer": "ipython3",
   "version": "3.6.5"
  }
 },
 "nbformat": 4,
 "nbformat_minor": 5
}
